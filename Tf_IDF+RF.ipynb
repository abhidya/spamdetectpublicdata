{
  "nbformat": 4,
  "nbformat_minor": 0,
  "metadata": {
    "colab": {
      "name": "Tf-IDF+RF.ipynb",
      "version": "0.3.2",
      "provenance": [],
      "collapsed_sections": []
    },
    "kernelspec": {
      "name": "python3",
      "display_name": "Python 3"
    }
  },
  "cells": [
    {
      "metadata": {
        "id": "2IIFTOZ97skd",
        "colab_type": "code",
        "colab": {}
      },
      "cell_type": "code",
      "source": [
        "import pandas as pd\n",
        "from google.colab import files\n",
        "from sklearn.ensemble import RandomForestClassifier\n",
        "from sklearn.feature_extraction.text import TfidfVectorizer\n",
        "from sklearn.model_selection import train_test_split\n",
        "\n",
        "\n"
      ],
      "execution_count": 0,
      "outputs": []
    },
    {
      "metadata": {
        "id": "eAPL3i_9dHDY",
        "colab_type": "code",
        "outputId": "fd2bab09-4eec-4c10-a2b4-c7fe1dd13395",
        "colab": {
          "base_uri": "https://localhost:8080/",
          "height": 69
        }
      },
      "cell_type": "code",
      "source": [
        "train_url = 'https://raw.githubusercontent.com/abhidya/spamdetectpublicdata/master/train.csv'\n",
        "test_url = 'https://raw.githubusercontent.com/abhidya/spamdetectpublicdata/master/test.csv'\n",
        "\n",
        "train = pd.read_csv(train_url)\n",
        "test = pd.read_csv(test_url)\n",
        "\n",
        "\n",
        "print(train.columns.values)\n",
        "print(test.columns.values)"
      ],
      "execution_count": 2,
      "outputs": [
        {
          "output_type": "stream",
          "text": [
            "['Id' 'Tweet' 'following' 'followers' 'actions' 'is_retweet' 'location'\n",
            " 'Type']\n",
            "['Id' 'Tweet' 'following' 'followers' 'actions' 'is_retweet' 'location']\n"
          ],
          "name": "stdout"
        }
      ]
    },
    {
      "metadata": {
        "id": "6mfOMdMfdLwb",
        "colab_type": "code",
        "outputId": "8f5d7410-c528-4953-83fb-bc25c26ae87c",
        "colab": {
          "base_uri": "https://localhost:8080/",
          "height": 139
        }
      },
      "cell_type": "code",
      "source": [
        "\n",
        "\n",
        "# fit tf-idf with the training data\n",
        "tfidf = TfidfVectorizer()\n",
        "\n",
        "tfidf.fit(train['Tweet'])\n",
        "tfidf.fit(test['Tweet'])\n"
      ],
      "execution_count": 3,
      "outputs": [
        {
          "output_type": "execute_result",
          "data": {
            "text/plain": [
              "TfidfVectorizer(analyzer='word', binary=False, decode_error='strict',\n",
              "        dtype=<class 'numpy.float64'>, encoding='utf-8', input='content',\n",
              "        lowercase=True, max_df=1.0, max_features=None, min_df=1,\n",
              "        ngram_range=(1, 1), norm='l2', preprocessor=None, smooth_idf=True,\n",
              "        stop_words=None, strip_accents=None, sublinear_tf=False,\n",
              "        token_pattern='(?u)\\\\b\\\\w\\\\w+\\\\b', tokenizer=None, use_idf=True,\n",
              "        vocabulary=None)"
            ]
          },
          "metadata": {
            "tags": []
          },
          "execution_count": 3
        }
      ]
    },
    {
      "metadata": {
        "id": "-TK8jdNqdPB1",
        "colab_type": "code",
        "outputId": "744a9bdf-cc2f-4e64-d1a1-6aa059fd2a63",
        "colab": {
          "base_uri": "https://localhost:8080/",
          "height": 89
        }
      },
      "cell_type": "code",
      "source": [
        "\n",
        "train['Vector'] = list(tfidf.transform(train['Tweet']).toarray())\n",
        "\n",
        "train_train, train_test = train_test_split(train, test_size=0.08, random_state=42)\n",
        "\n",
        "clf = RandomForestClassifier()\n",
        "clf.fit(train_train['Vector'].tolist(), train_train['Type'])\n",
        "clf.score(train_test['Vector'].tolist(), train_test['Type'])\n",
        "\n"
      ],
      "execution_count": 4,
      "outputs": [
        {
          "output_type": "stream",
          "text": [
            "/usr/local/lib/python3.6/dist-packages/sklearn/ensemble/forest.py:246: FutureWarning: The default value of n_estimators will change from 10 in version 0.20 to 100 in 0.22.\n",
            "  \"10 in version 0.20 to 100 in 0.22.\", FutureWarning)\n"
          ],
          "name": "stderr"
        },
        {
          "output_type": "execute_result",
          "data": {
            "text/plain": [
              "0.9237995824634656"
            ]
          },
          "metadata": {
            "tags": []
          },
          "execution_count": 4
        }
      ]
    },
    {
      "metadata": {
        "id": "YP2jGBk58nHu",
        "colab_type": "code",
        "outputId": "4ec68253-72d1-44ee-aca3-cd78e772cb1f",
        "colab": {
          "base_uri": "https://localhost:8080/",
          "height": 52
        }
      },
      "cell_type": "code",
      "source": [
        "clf.fit(train['Vector'].tolist(), train['Type'])\n",
        "\n",
        "test['Vector'] = list(tfidf.transform(test['Tweet']).toarray())\n",
        "\n",
        "test['Type'] = clf.predict(test['Vector'].tolist())\n",
        "\n",
        "print(test.columns.values)"
      ],
      "execution_count": 5,
      "outputs": [
        {
          "output_type": "stream",
          "text": [
            "['Id' 'Tweet' 'following' 'followers' 'actions' 'is_retweet' 'location'\n",
            " 'Vector' 'Type']\n"
          ],
          "name": "stdout"
        }
      ]
    },
    {
      "metadata": {
        "id": "OvP8nEOE87Ol",
        "colab_type": "code",
        "colab": {}
      },
      "cell_type": "code",
      "source": [
        "test = test[[\"Id\", \"Type\"]]\n",
        "test.to_csv(\"submission.csv\", index=False)\n",
        "files.download(\"submission.csv\")"
      ],
      "execution_count": 0,
      "outputs": []
    },
    {
      "metadata": {
        "id": "f1a-M4s49GOK",
        "colab_type": "code",
        "colab": {}
      },
      "cell_type": "code",
      "source": [
        "test = test[[\"Id\", \"Type\"]]\n",
        "test.to_csv(\"submission.csv\", index=False)"
      ],
      "execution_count": 0,
      "outputs": []
    }
  ]
}