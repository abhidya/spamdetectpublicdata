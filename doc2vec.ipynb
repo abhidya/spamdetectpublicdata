{
 "cells": [
  {
   "cell_type": "code",
   "execution_count": 2,
   "metadata": {},
   "outputs": [
    {
     "name": "stdout",
     "output_type": "stream",
     "text": [
      "['Tweet' 'following' 'followers' 'actions' 'is_retweet' 'location' 'Type'\n",
      " 'Unnamed: 7']\n",
      "['Id' 'Tweet' 'following' 'followers' 'actions' 'is_retweet' 'location']\n",
      "Type\n"
     ]
    },
    {
     "data": {
      "application/vnd.jupyter.widget-view+json": {
       "model_id": "566302559ccc422fb8e33bb671a51d18",
       "version_major": 2,
       "version_minor": 0
      },
      "text/plain": [
       "HBox(children=(IntProgress(value=0, max=745), HTML(value='')))"
      ]
     },
     "metadata": {},
     "output_type": "display_data"
    },
    {
     "name": "stdout",
     "output_type": "stream",
     "text": [
      "\n",
      "Accuracy Score:  0.5261744966442953\n",
      "Label Score:  [0.5513866231647634, 0.0, 0.6510948905109489]\n"
     ]
    },
    {
     "data": {
      "text/plain": [
       "[[0.5513866231647634, 0.0, 0.6510948905109489], 0.5261744966442953]"
      ]
     },
     "execution_count": 2,
     "metadata": {},
     "output_type": "execute_result"
    }
   ],
   "source": [
    "from pymongo import MongoClient\n",
    "from tqdm import tqdm_notebook as tqdm\n",
    "import pandas as pd\n",
    "from pd_doc2vec import doc2vec\n",
    "\n",
    "train_url = 'https://raw.githubusercontent.com/abhidya/spamdetectpublicdata/master/train.csv'\n",
    "test_url = 'https://raw.githubusercontent.com/abhidya/spamdetectpublicdata/master/test.csv'\n",
    "\n",
    "train = pd.read_csv(train_url)\n",
    "test = pd.read_csv(test_url)\n",
    "\n",
    "\n",
    "print(train.columns.values)\n",
    "print(test.columns.values)\n",
    "\n",
    "\n",
    "x = doc2vec(train, \"Tweet\", ['Type'])\n",
    "x.score(verbose=True)\n",
    "\n"
   ]
  },
  {
   "cell_type": "code",
   "execution_count": 3,
   "metadata": {},
   "outputs": [
    {
     "data": {
      "text/plain": [
       "[('Spam', 0.667297899723053),\n",
       " ('South Dakota', 0.5132567882537842),\n",
       " ('Quality', 0.5046319365501404)]"
      ]
     },
     "execution_count": 3,
     "metadata": {},
     "output_type": "execute_result"
    }
   ],
   "source": [
    "x.predict_sims(\"Haven't been following the news but I understa...\t\")"
   ]
  },
  {
   "cell_type": "code",
   "execution_count": null,
   "metadata": {},
   "outputs": [],
   "source": []
  }
 ],
 "metadata": {
  "kernelspec": {
   "display_name": "Python 3",
   "language": "python",
   "name": "python3"
  },
  "language_info": {
   "codemirror_mode": {
    "name": "ipython",
    "version": 3
   },
   "file_extension": ".py",
   "mimetype": "text/x-python",
   "name": "python",
   "nbconvert_exporter": "python",
   "pygments_lexer": "ipython3",
   "version": "3.5.2"
  }
 },
 "nbformat": 4,
 "nbformat_minor": 2
}
